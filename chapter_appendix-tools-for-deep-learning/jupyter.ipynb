{
  "cells": [
    {
      "cell_type": "code",
      "source": [
        "\n",
        "\n",
        "userinput=input(str(\"Enter an Email: \"))\n",
        "username= userinput.split(\"@\")\n",
        "\n",
        "print(username[0])\n"
      ],
      "metadata": {
        "colab": {
          "base_uri": "https://localhost:8080/"
        },
        "id": "8mwU2jndB-GG",
        "outputId": "924e18fb-bba0-43f1-fd4c-bbabc76ca372"
      },
      "id": "8mwU2jndB-GG",
      "execution_count": 22,
      "outputs": [
        {
          "output_type": "stream",
          "name": "stdout",
          "text": [
            "Enter an Email: jhgjhn@gjh.com\n",
            "jhgjhn\n"
          ]
        }
      ]
    },
    {
      "cell_type": "code",
      "source": [
        "string=input(str(\"Enter string: \"))\n",
        "character=input(str(\"Enter the particular character to be counted: \" ))\n",
        "count=0\n",
        "for i in string:\n",
        "  if i==character:\n",
        "    count=count+1\n",
        "print(\"The frequency of the character in the string is: \", count)"
      ],
      "metadata": {
        "colab": {
          "base_uri": "https://localhost:8080/"
        },
        "id": "0Urnf5moOkc1",
        "outputId": "499fbff6-7fe8-49c0-efdb-98a9d215764b"
      },
      "id": "0Urnf5moOkc1",
      "execution_count": 25,
      "outputs": [
        {
          "output_type": "stream",
          "name": "stdout",
          "text": [
            "Enter string: asdfasdfasdfasd\n",
            "Enter the particular character to be counted: a\n",
            "The frequency of the character in the string is:  4\n"
          ]
        }
      ]
    },
    {
      "cell_type": "code",
      "source": [
        "string=input(str(\"Enter string: \"))\n",
        "character=input(str(\"Enter the particular character to be counted: \" ))\n",
        "newstring=\"\"\n",
        "\n",
        "for i in string:\n",
        "  if i != character:\n",
        "    newstring=newstring+i\n",
        "print(\"String after removing the perticular character: \", newstring)"
      ],
      "metadata": {
        "colab": {
          "base_uri": "https://localhost:8080/"
        },
        "id": "UIKv-PLBRISj",
        "outputId": "98d2272d-0f6a-4483-973c-3fc59ec35db8"
      },
      "id": "UIKv-PLBRISj",
      "execution_count": 28,
      "outputs": [
        {
          "output_type": "stream",
          "name": "stdout",
          "text": [
            "Enter string: asdfasdasdfasdf\n",
            "Enter the particular character to be counted: a\n",
            "String after removing the perticular character:  sdfsdsdfsdf\n"
          ]
        }
      ]
    },
    {
      "cell_type": "code",
      "source": [
        "string=input(str(\"Enter string: \"))\n",
        "if string==string[::-1]:\n",
        "  print(\"The string is a palindrome\")\n",
        "else:\n",
        "  print(\"The string is not a palindrome\")"
      ],
      "metadata": {
        "colab": {
          "base_uri": "https://localhost:8080/"
        },
        "id": "Q4A_z_NGTSxF",
        "outputId": "9351b169-aa48-47ea-ad64-6313c6d33f59"
      },
      "id": "Q4A_z_NGTSxF",
      "execution_count": 30,
      "outputs": [
        {
          "output_type": "stream",
          "name": "stdout",
          "text": [
            "Enter string: ghj\n",
            "The string is not a palindrome\n"
          ]
        }
      ]
    },
    {
      "cell_type": "code",
      "source": [
        "string=input(str(\"enter a string: \"))\n",
        "count=1\n",
        "for i in string:\n",
        "  if i==\" \":\n",
        "    count=count+1\n",
        "print(\"The number of words in the string is: \", count)"
      ],
      "metadata": {
        "id": "DiP01NHsUJUa",
        "outputId": "348cb400-87e3-430e-a995-e0f6b929bddd",
        "colab": {
          "base_uri": "https://localhost:8080/"
        }
      },
      "id": "DiP01NHsUJUa",
      "execution_count": 33,
      "outputs": [
        {
          "output_type": "stream",
          "name": "stdout",
          "text": [
            "enter a string: asd adda d ds ds f ds\n",
            "The number of words in the string is:  7\n"
          ]
        }
      ]
    }
  ],
  "metadata": {
    "kernelspec": {
      "display_name": "Python 3",
      "name": "python3"
    },
    "language_info": {
      "name": "python"
    },
    "required_libs": [],
    "colab": {
      "provenance": []
    }
  },
  "nbformat": 4,
  "nbformat_minor": 5
}